{
 "cells": [
  {
   "cell_type": "code",
   "execution_count": 1,
   "metadata": {
    "ExecuteTime": {
     "end_time": "2018-07-01T00:33:08.771390Z",
     "start_time": "2018-07-01T00:33:08.766031Z"
    }
   },
   "outputs": [],
   "source": [
    "from slackbot.authentication import SLACK_OAUTH_API_TOKEN, SLACK_BOT_API_TOKEN"
   ]
  },
  {
   "cell_type": "markdown",
   "metadata": {
    "heading_collapsed": true
   },
   "source": [
    "# From slackbot"
   ]
  },
  {
   "cell_type": "code",
   "execution_count": 2,
   "metadata": {
    "ExecuteTime": {
     "end_time": "2018-06-30T21:50:21.821859Z",
     "start_time": "2018-06-30T21:50:21.593943Z"
    },
    "hidden": true
   },
   "outputs": [],
   "source": [
    "from slackbot.slackclient import SlackClient as SlackBotSlackClient"
   ]
  },
  {
   "cell_type": "code",
   "execution_count": 3,
   "metadata": {
    "ExecuteTime": {
     "end_time": "2018-06-30T21:50:26.289023Z",
     "start_time": "2018-06-30T21:50:24.633972Z"
    },
    "hidden": true
   },
   "outputs": [],
   "source": [
    "sc_bot = SlackBotSlackClient(SLACK_API_TOKEN)"
   ]
  },
  {
   "cell_type": "code",
   "execution_count": 6,
   "metadata": {
    "ExecuteTime": {
     "end_time": "2018-06-30T21:46:47.795171Z",
     "start_time": "2018-06-30T21:46:47.792197Z"
    },
    "hidden": true
   },
   "outputs": [],
   "source": [
    "channel_id = sc_bot.find_channel_by_name('random')"
   ]
  },
  {
   "cell_type": "code",
   "execution_count": 7,
   "metadata": {
    "ExecuteTime": {
     "end_time": "2018-06-30T21:47:00.410827Z",
     "start_time": "2018-06-30T21:47:00.407550Z"
    },
    "hidden": true
   },
   "outputs": [],
   "source": [
    "channel = sc_bot.get_channel(channel_id)"
   ]
  },
  {
   "cell_type": "code",
   "execution_count": 10,
   "metadata": {
    "ExecuteTime": {
     "end_time": "2018-06-30T21:49:12.938656Z",
     "start_time": "2018-06-30T21:49:12.932396Z"
    },
    "collapsed": true,
    "hidden": true
   },
   "outputs": [
    {
     "data": {
      "text/plain": [
       "{'C2XURC4UT': {'created': 1478214389,\n",
       "  'creator': 'U2X9ZD6CQ',\n",
       "  'has_pins': False,\n",
       "  'id': 'C2XURC4UT',\n",
       "  'is_archived': False,\n",
       "  'is_channel': True,\n",
       "  'is_general': False,\n",
       "  'is_member': True,\n",
       "  'is_mpim': False,\n",
       "  'is_org_shared': False,\n",
       "  'is_private': False,\n",
       "  'is_shared': False,\n",
       "  'last_read': '1529474578.000213',\n",
       "  'members': ['UBA3EN8E5',\n",
       "   'U2X9ZD6CQ',\n",
       "   'U2XA70ZUG',\n",
       "   'U2XAD4J2U',\n",
       "   'U2XCKL32M',\n",
       "   'U2YN5FS20',\n",
       "   'U2YNAQDFG',\n",
       "   'U2YT5P4DS',\n",
       "   'U2ZL74SQ6',\n",
       "   'U30P2171V',\n",
       "   'U36TNK7K7',\n",
       "   'U36TRARQS',\n",
       "   'U3ECG0DB6',\n",
       "   'U5MLWSXDJ',\n",
       "   'U7J3H1RCH',\n",
       "   'U7L18SB54',\n",
       "   'UARTRDXK7'],\n",
       "  'name': 'random',\n",
       "  'name_normalized': 'random',\n",
       "  'previous_names': [],\n",
       "  'priority': 0,\n",
       "  'purpose': {'creator': '',\n",
       "   'last_set': 0,\n",
       "   'value': \"A place for non-work-related flimflam, faffing, hodge-podge or jibber-jabber you'd prefer to keep out of more focused work-related channels.\"},\n",
       "  'topic': {'creator': '',\n",
       "   'last_set': 0,\n",
       "   'value': 'Non-work banter and water cooler conversation'},\n",
       "  'unlinked': 0},\n",
       " 'C2Y1C63A6': {'created': 1478214389,\n",
       "  'creator': 'U2X9ZD6CQ',\n",
       "  'has_pins': False,\n",
       "  'id': 'C2Y1C63A6',\n",
       "  'is_archived': False,\n",
       "  'is_channel': True,\n",
       "  'is_general': True,\n",
       "  'is_member': False,\n",
       "  'is_mpim': False,\n",
       "  'is_org_shared': False,\n",
       "  'is_private': False,\n",
       "  'is_shared': False,\n",
       "  'name': 'ekklesia',\n",
       "  'name_normalized': 'ekklesia',\n",
       "  'previous_names': ['general'],\n",
       "  'priority': 0,\n",
       "  'unlinked': 0},\n",
       " 'C7D0UHNAC': {'created': 1507167120,\n",
       "  'creator': 'U2X9ZD6CQ',\n",
       "  'has_pins': False,\n",
       "  'id': 'C7D0UHNAC',\n",
       "  'is_archived': False,\n",
       "  'is_channel': True,\n",
       "  'is_general': False,\n",
       "  'is_member': False,\n",
       "  'is_mpim': False,\n",
       "  'is_org_shared': False,\n",
       "  'is_private': False,\n",
       "  'is_shared': False,\n",
       "  'name': 'agora',\n",
       "  'name_normalized': 'agora',\n",
       "  'previous_names': [],\n",
       "  'priority': 0,\n",
       "  'unlinked': 0},\n",
       " 'DBAPNGACD': {'created': 1529471844,\n",
       "  'has_pins': False,\n",
       "  'id': 'DBAPNGACD',\n",
       "  'is_im': True,\n",
       "  'is_open': False,\n",
       "  'is_org_shared': False,\n",
       "  'last_read': '0000000000.000000',\n",
       "  'priority': 0,\n",
       "  'user': 'U2YN5FS20'},\n",
       " 'DBAV93UEQ': {'created': 1529525499,\n",
       "  'has_pins': False,\n",
       "  'id': 'DBAV93UEQ',\n",
       "  'is_im': True,\n",
       "  'is_open': False,\n",
       "  'is_org_shared': False,\n",
       "  'last_read': '0000000000.000000',\n",
       "  'priority': 0,\n",
       "  'user': 'UARTRDXK7'},\n",
       " 'DBBLVU1KR': {'created': 1529471603,\n",
       "  'has_pins': False,\n",
       "  'id': 'DBBLVU1KR',\n",
       "  'is_im': True,\n",
       "  'is_open': True,\n",
       "  'is_org_shared': False,\n",
       "  'last_read': '0000000000.000000',\n",
       "  'priority': 0,\n",
       "  'user': 'USLACKBOT'}}"
      ]
     },
     "execution_count": 10,
     "metadata": {},
     "output_type": "execute_result"
    }
   ],
   "source": [
    "sc_bot.channels"
   ]
  },
  {
   "cell_type": "markdown",
   "metadata": {},
   "source": [
    "# From slackclient"
   ]
  },
  {
   "cell_type": "code",
   "execution_count": 2,
   "metadata": {
    "ExecuteTime": {
     "end_time": "2018-07-01T00:33:10.831123Z",
     "start_time": "2018-07-01T00:33:10.685764Z"
    }
   },
   "outputs": [],
   "source": [
    "from slackclient import SlackClient"
   ]
  },
  {
   "cell_type": "code",
   "execution_count": 3,
   "metadata": {
    "ExecuteTime": {
     "end_time": "2018-07-01T00:33:10.835957Z",
     "start_time": "2018-07-01T00:33:10.833385Z"
    }
   },
   "outputs": [],
   "source": [
    "sc_bot = SlackClient(SLACK_BOT_API_TOKEN)"
   ]
  },
  {
   "cell_type": "code",
   "execution_count": 4,
   "metadata": {
    "ExecuteTime": {
     "end_time": "2018-07-01T00:33:11.562952Z",
     "start_time": "2018-07-01T00:33:11.309380Z"
    }
   },
   "outputs": [],
   "source": [
    "channel_list = sc_bot.api_call('channels.list')['channels']"
   ]
  },
  {
   "cell_type": "code",
   "execution_count": 5,
   "metadata": {
    "ExecuteTime": {
     "end_time": "2018-07-01T00:33:11.571295Z",
     "start_time": "2018-07-01T00:33:11.565242Z"
    }
   },
   "outputs": [],
   "source": [
    "channel_name = 'random'\n",
    "channel_ids = [channel['id'] for channel in channel_list if channel['name'] == channel_name]\n",
    "if len(channel_ids) > 1:\n",
    "    raise\n",
    "else:\n",
    "    channel_id = channel_ids[0]"
   ]
  },
  {
   "cell_type": "code",
   "execution_count": 6,
   "metadata": {
    "ExecuteTime": {
     "end_time": "2018-07-01T00:33:11.583197Z",
     "start_time": "2018-07-01T00:33:11.573508Z"
    }
   },
   "outputs": [
    {
     "data": {
      "text/plain": [
       "'C2XURC4UT'"
      ]
     },
     "execution_count": 6,
     "metadata": {},
     "output_type": "execute_result"
    }
   ],
   "source": [
    "channel_id"
   ]
  },
  {
   "cell_type": "code",
   "execution_count": 7,
   "metadata": {
    "ExecuteTime": {
     "end_time": "2018-07-01T00:33:12.288570Z",
     "start_time": "2018-07-01T00:33:12.285283Z"
    }
   },
   "outputs": [],
   "source": [
    "username = 'akgerber'\n",
    "realname = 'Alan Gerber'"
   ]
  },
  {
   "cell_type": "code",
   "execution_count": 8,
   "metadata": {
    "ExecuteTime": {
     "end_time": "2018-07-01T00:33:12.649063Z",
     "start_time": "2018-07-01T00:33:12.444482Z"
    },
    "scrolled": false
   },
   "outputs": [],
   "source": [
    "member_list = sc_bot.api_call(\"users.list\")['members']\n",
    "usernames = [member['name'].lower() for member in member_list]\n",
    "realnames = [member['real_name'].lower() for member in member_list]"
   ]
  },
  {
   "cell_type": "code",
   "execution_count": 156,
   "metadata": {
    "ExecuteTime": {
     "end_time": "2018-07-02T06:10:03.859724Z",
     "start_time": "2018-07-02T06:10:03.481378Z"
    }
   },
   "outputs": [],
   "source": [
    "# TODO(dstone): do I need this class to inherit from something like slackclient.SlackClient?\n",
    "# TODO(dstone): add documentation\n",
    "class SlackTeamBot():\n",
    "    def __init__(self, bot_api_token, oauth_api_token):\n",
    "        self.bot_api_token = bot_api_token\n",
    "        self.oauth_api_token = oauth_api_token\n",
    "        # get the agents we'll use to do talking and access resources\n",
    "        self.sc_bot = SlackClient(bot_api_token)\n",
    "        self.sc_auth = SlackClient(oauth_api_token)\n",
    "        self.channel_list = self.sc_bot.api_call('channels.list')['channels']\n",
    "        self.member_list = self.sc_bot.api_call(\"users.list\")['members']\n",
    "        self.user_names = None\n",
    "        self.real_names = None\n",
    "        self.channel_names = None\n",
    "        \n",
    "    def get_channel_names(self):\n",
    "        if self.channel_names is None:\n",
    "            self.channel_names = [channel['name'].lower() for channel in self.channel_list]\n",
    "        return self.channel_names\n",
    "    \n",
    "    def get_user_names(self):\n",
    "        if self.user_names is None:\n",
    "            self.user_names = [member['name'].lower() for member in self.member_list]\n",
    "        return self.user_names\n",
    "    \n",
    "    def get_real_names(self):\n",
    "        if self.real_names is None:\n",
    "            self.real_names = [member['real_name'].lower() for member in self.member_list]\n",
    "        return self.real_names\n",
    "        \n",
    "    def get_user_id_from_user_name(self, user_name):\n",
    "        name_to_check = user_name.lower().lstrip('@')\n",
    "        user_names = self.get_user_names()\n",
    "        real_names = self.get_real_names()\n",
    "        if name_to_check in user_names:\n",
    "            name_field = 'name'\n",
    "        elif name_to_check in real_names:\n",
    "            name_field = 'real_name'\n",
    "        else:\n",
    "            raise ValueError('Cannot find any user named (real or user name) {}!'.format(user_name))\n",
    "            \n",
    "        user_ids = [member['id'] for member in self.member_list if member[name_field].lower() == name_to_check]\n",
    "        if len(user_ids) > 1:\n",
    "            raise ValueError('Found more than one user matching the name you provided (!?).')\n",
    "        else:\n",
    "            user_id = user_ids[0]\n",
    "            \n",
    "        return user_id\n",
    "    \n",
    "    def get_channel_id_from_channel_name(self, channel_name):\n",
    "        channel_to_check = channel_name.lower().lstrip('#')\n",
    "        channel_names = self.get_channel_names()\n",
    "        if channel_name not in channel_names:\n",
    "            raise ValueError('Cannot find any channel named {}!'.format(channel_name))\n",
    "        channel_ids = [channel['id'] for channel in self.channel_list if channel['name'].lower() == channel_to_check]\n",
    "        if len(channel_ids) > 1:\n",
    "            raise ValueError('Found more than one channel matching the name you provided (!?).')\n",
    "        else:\n",
    "            channel_id = channel_ids[0] \n",
    "            \n",
    "        return channel_id\n",
    "    \n",
    "    def get_message_objects(self, limit=None, channel_name=None, user_name=None):\n",
    "        # TODO(dstone): make it so this grabs thread content and reactions as well\n",
    "        if user_name is not None:\n",
    "            user_id = self.get_user_id_from_user_name(user_name)\n",
    "        else:\n",
    "            user_id = None\n",
    "            \n",
    "        if channel_name is None:\n",
    "            channel_ids = [channel['id'] for channel in scb.channel_list]\n",
    "        else:\n",
    "            channel_ids = [self.get_channel_id_from_channel_name(channel_name)]\n",
    "            \n",
    "        latest, message_objects = None, []\n",
    "        for channel_id in channel_ids:\n",
    "            more_messages = True\n",
    "            # TODO(dstone): this actually grabs by channel first, rather than by time stamp. \n",
    "            # Need to order by time stamp at some point and return by that limit. Note 'channel' is required for the 'conversation.history' API call\n",
    "            while more_messages and (limit is None or limit > 0):\n",
    "                if limit is not None:\n",
    "                    # restrict to 100 message maximum if still requesting more than that\n",
    "                    limit_to_call = min(limit, 100)\n",
    "                else:\n",
    "                    # choose maximum allowable number of message_objects to request at a time\n",
    "                    limit_to_call = 100\n",
    "                conversation_history = sc_oauth.api_call(\"conversations.history\",\n",
    "                                                         channel=channel_id,\n",
    "                                                         limit=limit_to_call,\n",
    "                                                         latest=latest\n",
    "                                                        )\n",
    "                \n",
    "                latest_messages = conversation_history['messages']\n",
    "                latest = latest_messages[-1]['ts']\n",
    "                more_messages = conversation_history['has_more']\n",
    "                \n",
    "                if user_id is not None:\n",
    "                    # filter if you are requesting a specific user's messages\n",
    "                    latest_messages = [message_object for message_object in latest_messages if message_object['user'] == user_id]\n",
    "                # do this afterward to check for messages by user_id\n",
    "                if limit is not None:\n",
    "                    # only decrement by how many messages you actually got\n",
    "                    limit = limit - len(latest_messages)\n",
    "                message_objects.extend(latest_messages)\n",
    "\n",
    "        return message_objects\n",
    "    \n",
    "    def get_messages(self, **kwargs):\n",
    "        message_objects = self.get_message_objects(**kwargs)\n",
    "        return [message['text'] for message in message_objects]\n",
    "    \n",
    "    def get_messages_for_user(self, user_name, **kwargs):\n",
    "        kwargs['user_name'] = user_name\n",
    "        message_objects = self.get_message_objects(**kwargs)\n",
    "        return [message['text'] for message in message_objects]# if message['user'] == user_id]"
   ]
  },
  {
   "cell_type": "code",
   "execution_count": 157,
   "metadata": {
    "ExecuteTime": {
     "end_time": "2018-07-02T06:10:04.803759Z",
     "start_time": "2018-07-02T06:10:04.279889Z"
    }
   },
   "outputs": [],
   "source": [
    "scb = SlackTeamBot(SLACK_BOT_API_TOKEN, SLACK_OAUTH_API_TOKEN)"
   ]
  },
  {
   "cell_type": "code",
   "execution_count": 160,
   "metadata": {
    "ExecuteTime": {
     "end_time": "2018-07-02T06:10:39.283001Z",
     "start_time": "2018-07-02T06:10:35.104704Z"
    }
   },
   "outputs": [
    {
     "data": {
      "text/plain": [
       "['this is amazing',\n",
       " '<https://www.reddit.com/r/PublicFreakout/comments/8tddfe/man_on_bart_calls_for_police_to_report_another/>',\n",
       " 'we should cop tix-- ya’ll want to go?']"
      ]
     },
     "execution_count": 160,
     "metadata": {},
     "output_type": "execute_result"
    }
   ],
   "source": [
    "scb.get_messages_for_user(user_name='vishaljg', limit=3, channel_name='random')"
   ]
  },
  {
   "cell_type": "code",
   "execution_count": null,
   "metadata": {},
   "outputs": [],
   "source": [
    "# ultimate goal: check on USER in CHANNEL\n",
    "# (in CHANNEL should be optional)"
   ]
  },
  {
   "cell_type": "markdown",
   "metadata": {
    "heading_collapsed": true
   },
   "source": [
    "# Scratch"
   ]
  },
  {
   "cell_type": "code",
   "execution_count": 56,
   "metadata": {
    "ExecuteTime": {
     "end_time": "2018-07-02T05:15:47.274500Z",
     "start_time": "2018-07-02T05:15:46.867513Z"
    },
    "hidden": true
   },
   "outputs": [],
   "source": [
    "while more_messages and limit > 0:\n",
    "    limit_to_call = min(limit, 100)\n",
    "    conversation_history = sc_oauth.api_call(\"conversations.history\",\n",
    "                                             channel='C2Y1C63A6',\n",
    "                                             limit=limit_to_call,\n",
    "                                             latest=latest\n",
    "                                            )\n",
    "    limit = limit - limit_to_call\n",
    "    latest_messages = conversation_history['messages']\n",
    "    latest = latest_messages[-1]['ts']\n",
    "    more_messages = conversation_history['has_more']\n",
    "    messages.extend(latest_messages)"
   ]
  },
  {
   "cell_type": "code",
   "execution_count": 32,
   "metadata": {
    "ExecuteTime": {
     "end_time": "2018-07-01T00:51:30.332785Z",
     "start_time": "2018-07-01T00:51:30.140663Z"
    },
    "hidden": true
   },
   "outputs": [],
   "source": [
    "conversation_history = sc_oauth.api_call(\n",
    "    \"conversations.history\",\n",
    "    channel='C2Y1C63A6',\n",
    "    limit=3,\n",
    "    latest=None\n",
    ")"
   ]
  },
  {
   "cell_type": "code",
   "execution_count": null,
   "metadata": {
    "hidden": true
   },
   "outputs": [],
   "source": [
    "latest, messages, more_messages = None, [], True"
   ]
  },
  {
   "cell_type": "code",
   "execution_count": null,
   "metadata": {
    "hidden": true
   },
   "outputs": [],
   "source": [
    "def _get_user_id_from_user_name(name):\n",
    "    name_to_check = name.lower().lstrip('@')\n",
    "    if name_to_check in usernames:\n",
    "        name_field = 'name'\n",
    "    elif name_to_check in realnames:\n",
    "        name_field = 'real_name'\n",
    "    else:\n",
    "        raise\n",
    "\n",
    "    user_ids = [member['id'] for member in member_list if member[name_field].lower() == name_to_check_on]\n",
    "    if len(user_ids) > 1:\n",
    "        raise\n",
    "    else:\n",
    "        user_id = user_ids[0]\n",
    "        \n",
    "    return user_id"
   ]
  },
  {
   "cell_type": "code",
   "execution_count": 9,
   "metadata": {
    "ExecuteTime": {
     "end_time": "2018-07-01T00:33:12.663623Z",
     "start_time": "2018-07-01T00:33:12.651333Z"
    },
    "hidden": true
   },
   "outputs": [],
   "source": [
    "name_to_check_on = '@AkGerBER'\n",
    "name_to_check_on = name_to_check_on.lower().lstrip('@')\n",
    "if name_to_check_on in usernames:\n",
    "    name_field = 'name'\n",
    "elif name_to_check_on in realnames:\n",
    "    name_field = 'real_name'\n",
    "else:\n",
    "    raise\n",
    "    \n",
    "user_ids = [member['id'] for member in member_list if member[name_field].lower() == name_to_check_on]\n",
    "if len(user_ids) > 1:\n",
    "    raise\n",
    "else:\n",
    "    user_id = user_ids[0]"
   ]
  }
 ],
 "metadata": {
  "hide_input": false,
  "kernelspec": {
   "display_name": "general_python3_sandbox",
   "language": "python",
   "name": "general_python3_sandbox"
  },
  "language_info": {
   "codemirror_mode": {
    "name": "ipython",
    "version": 3
   },
   "file_extension": ".py",
   "mimetype": "text/x-python",
   "name": "python",
   "nbconvert_exporter": "python",
   "pygments_lexer": "ipython3",
   "version": "3.6.3"
  },
  "toc": {
   "colors": {
    "hover_highlight": "#DAA520",
    "running_highlight": "#FF0000",
    "selected_highlight": "#FFD700"
   },
   "moveMenuLeft": true,
   "nav_menu": {
    "height": "66px",
    "width": "252px"
   },
   "navigate_menu": true,
   "number_sections": true,
   "sideBar": true,
   "threshold": 4,
   "toc_cell": false,
   "toc_section_display": "block",
   "toc_window_display": false
  }
 },
 "nbformat": 4,
 "nbformat_minor": 2
}
